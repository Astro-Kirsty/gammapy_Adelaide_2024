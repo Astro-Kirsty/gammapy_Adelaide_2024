{
 "cells": [
  {
   "cell_type": "markdown",
   "id": "7fdc8e51",
   "metadata": {},
   "source": [
    "# 3D map simulation\n",
    "\n",
    "\n",
    "### Objective\n",
    "Simulate a 3D observation of a source with CTA using the CTA 1DC response and fit it with the assumed source model.\n",
    "\n",
    "\n",
    "### Context\n",
    "\n",
    "To simulate a specific observation, it is not always necessary to\n",
    "simulate the full photon list. For many uses cases, simulating directly\n",
    "a reduced binned dataset is enough: the IRFs reduced in the correct\n",
    "geometry are combined with a source model to predict an actual number of\n",
    "counts per bin. The latter is then used to simulate a reduced dataset\n",
    "using Poisson probability distribution.\n",
    "\n",
    "This can be done to check the feasibility of a measurement (performance\n",
    "/ sensitivity study), to test whether fitted parameters really provide a\n",
    "good fit to the data etc.\n",
    "\n",
    "Here we will see how to perform a 3D simulation of a CTA observation,\n",
    "assuming both the spectral and spatial morphology of an observed source."
   ]
  },
  {
   "cell_type": "code",
   "execution_count": 1,
   "id": "ab53da2e",
   "metadata": {},
   "outputs": [],
   "source": [
    "import numpy as np\n",
    "import astropy.units as u\n",
    "from astropy.coordinates import SkyCoord"
   ]
  },
  {
   "cell_type": "markdown",
   "id": "f01b7695",
   "metadata": {},
   "source": [
    "## Simulation\n",
    "\n",
    "We will simulate using the CTA-1DC IRFs shipped with gammapy. "
   ]
  },
  {
   "cell_type": "code",
   "execution_count": null,
   "id": "2e36e3b5",
   "metadata": {},
   "outputs": [],
   "source": []
  },
  {
   "cell_type": "code",
   "execution_count": null,
   "id": "dbd9cfe3",
   "metadata": {},
   "outputs": [],
   "source": []
  },
  {
   "cell_type": "code",
   "execution_count": null,
   "id": "5166754f",
   "metadata": {},
   "outputs": [],
   "source": []
  },
  {
   "cell_type": "code",
   "execution_count": null,
   "id": "37984393",
   "metadata": {},
   "outputs": [],
   "source": []
  },
  {
   "cell_type": "code",
   "execution_count": null,
   "id": "4cb98567",
   "metadata": {},
   "outputs": [],
   "source": []
  },
  {
   "cell_type": "code",
   "execution_count": null,
   "id": "903d523d",
   "metadata": {},
   "outputs": [],
   "source": []
  },
  {
   "cell_type": "code",
   "execution_count": null,
   "id": "90708a9c",
   "metadata": {},
   "outputs": [],
   "source": []
  },
  {
   "cell_type": "markdown",
   "id": "d3db0b7a",
   "metadata": {},
   "source": [
    "Now, comes the main part of dataset simulation. "
   ]
  },
  {
   "cell_type": "code",
   "execution_count": null,
   "id": "83272dbd",
   "metadata": {},
   "outputs": [],
   "source": []
  },
  {
   "cell_type": "code",
   "execution_count": null,
   "id": "56dc846d",
   "metadata": {},
   "outputs": [],
   "source": []
  },
  {
   "cell_type": "code",
   "execution_count": null,
   "id": "46b69f4e",
   "metadata": {},
   "outputs": [],
   "source": []
  },
  {
   "cell_type": "code",
   "execution_count": null,
   "id": "774909cc",
   "metadata": {},
   "outputs": [],
   "source": []
  },
  {
   "cell_type": "code",
   "execution_count": null,
   "id": "4466390a",
   "metadata": {},
   "outputs": [],
   "source": []
  },
  {
   "cell_type": "markdown",
   "id": "48172696",
   "metadata": {},
   "source": [
    "Now use this dataset as you would in all standard analysis. "
   ]
  },
  {
   "cell_type": "code",
   "execution_count": null,
   "id": "cf73f851",
   "metadata": {},
   "outputs": [],
   "source": []
  },
  {
   "cell_type": "markdown",
   "id": "4cd0ed78",
   "metadata": {},
   "source": [
    "## Fit"
   ]
  },
  {
   "cell_type": "code",
   "execution_count": null,
   "id": "25d43557",
   "metadata": {},
   "outputs": [],
   "source": []
  },
  {
   "cell_type": "code",
   "execution_count": null,
   "id": "f53f565e",
   "metadata": {},
   "outputs": [],
   "source": []
  },
  {
   "cell_type": "code",
   "execution_count": null,
   "id": "f0f8fe56",
   "metadata": {},
   "outputs": [],
   "source": []
  },
  {
   "cell_type": "code",
   "execution_count": null,
   "id": "7d20c2be",
   "metadata": {},
   "outputs": [],
   "source": []
  },
  {
   "cell_type": "code",
   "execution_count": null,
   "id": "c4d7d260",
   "metadata": {},
   "outputs": [],
   "source": []
  },
  {
   "cell_type": "code",
   "execution_count": null,
   "id": "2b5d6e99",
   "metadata": {},
   "outputs": [],
   "source": []
  },
  {
   "cell_type": "code",
   "execution_count": null,
   "id": "6711e99e",
   "metadata": {},
   "outputs": [],
   "source": []
  },
  {
   "cell_type": "code",
   "execution_count": null,
   "id": "64346450",
   "metadata": {},
   "outputs": [],
   "source": []
  },
  {
   "cell_type": "code",
   "execution_count": null,
   "id": "d06ece7e",
   "metadata": {},
   "outputs": [],
   "source": []
  },
  {
   "cell_type": "markdown",
   "id": "be860305",
   "metadata": {},
   "source": [
    " ### Compare the injected and fitted models: "
   ]
  },
  {
   "cell_type": "code",
   "execution_count": null,
   "id": "0e6c257b",
   "metadata": {},
   "outputs": [],
   "source": []
  },
  {
   "cell_type": "markdown",
   "id": "bf56b86c",
   "metadata": {},
   "source": [
    "Get the errors on the fitted parameters from the parameter table\n",
    "\n",
    "## Estimating the LL of null hypothesis"
   ]
  },
  {
   "cell_type": "code",
   "execution_count": null,
   "id": "b4387d73",
   "metadata": {},
   "outputs": [],
   "source": []
  },
  {
   "cell_type": "markdown",
   "id": "537321e3",
   "metadata": {},
   "source": [
    "Standard formula is TS=-2(LogLike1-LogLike0) but default stat in gammapy is -2 log(L)"
   ]
  },
  {
   "cell_type": "code",
   "execution_count": null,
   "id": "16afb0f6",
   "metadata": {},
   "outputs": [],
   "source": []
  },
  {
   "cell_type": "code",
   "execution_count": null,
   "id": "0ded9b88",
   "metadata": {},
   "outputs": [],
   "source": []
  },
  {
   "cell_type": "code",
   "execution_count": null,
   "id": "02807f0b",
   "metadata": {},
   "outputs": [],
   "source": []
  },
  {
   "cell_type": "markdown",
   "id": "5c451b3d",
   "metadata": {},
   "source": [
    "## Exercise : estimating the significance of an Exponential Cutoff in the spectrum\n",
    "\n",
    "Spectral models can be found here: https://docs.gammapy.org/1.2/user-guide/model-gallery/index.html\n",
    "\n",
    "- Generate a new dataset with an Exponential Cutoff power-law with a E_cut = 50 TeV\n",
    "- redefine a sky model and change the spectral model with an Exponential Cutoff power-law \n",
    "- Fit the dataset with a skymodel assuming an Exponential Cutoff power-law and save the likelihood value\n",
    "- Fit the dataset with a skymodel assuming a power-law and save the likelihood value"
   ]
  },
  {
   "cell_type": "code",
   "execution_count": null,
   "id": "83cf19b9",
   "metadata": {},
   "outputs": [],
   "source": []
  }
 ],
 "metadata": {
  "kernelspec": {
   "display_name": "Python 3 (ipykernel)",
   "language": "python",
   "name": "python3"
  },
  "language_info": {
   "codemirror_mode": {
    "name": "ipython",
    "version": 3
   },
   "file_extension": ".py",
   "mimetype": "text/x-python",
   "name": "python",
   "nbconvert_exporter": "python",
   "pygments_lexer": "ipython3",
   "version": "3.10.13"
  }
 },
 "nbformat": 4,
 "nbformat_minor": 5
}
