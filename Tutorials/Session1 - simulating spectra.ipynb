{
 "cells": [
  {
   "cell_type": "markdown",
   "id": "07c07f87",
   "metadata": {},
   "source": [
    "# Spectral simulations with gammapy\n",
    "\n",
    "\n",
    "### Objective\n",
    "\n",
    "Simulate a number of spectral on-off observations of a source with a power-law spectral model using the CTA 1DC response and fit them with the assumed spectral model.\n",
    "\n",
    "### Steps\n",
    "\n",
    "* Create a fake observation of the Crab using CTA alpha configuration and build a 1D spectrum dataset for this observation\n",
    "* Fake multiple times a log-parabola source spectrum with ON-OFF statistic and fit it and to measure the statistcal uncertainty expected"
   ]
  },
  {
   "cell_type": "code",
   "execution_count": 1,
   "id": "7d04e2b2",
   "metadata": {},
   "outputs": [],
   "source": [
    "# General imports\n",
    "import numpy as np\n",
    "from astropy.coordinates import SkyCoord\n",
    "from astropy.table import Table\n",
    "import astropy.units as u\n",
    "from regions import CircleSkyRegion\n",
    "import matplotlib.pyplot as plt "
   ]
  },
  {
   "cell_type": "code",
   "execution_count": null,
   "id": "7ded84dd",
   "metadata": {},
   "outputs": [],
   "source": []
  },
  {
   "cell_type": "code",
   "execution_count": null,
   "id": "28fd8381",
   "metadata": {},
   "outputs": [],
   "source": []
  },
  {
   "cell_type": "code",
   "execution_count": null,
   "id": "aa75c888",
   "metadata": {},
   "outputs": [],
   "source": []
  },
  {
   "cell_type": "code",
   "execution_count": null,
   "id": "e8b1900f",
   "metadata": {},
   "outputs": [],
   "source": []
  },
  {
   "cell_type": "code",
   "execution_count": null,
   "id": "677de7d9",
   "metadata": {},
   "outputs": [],
   "source": []
  },
  {
   "cell_type": "code",
   "execution_count": null,
   "id": "bac234bf",
   "metadata": {},
   "outputs": [],
   "source": []
  },
  {
   "cell_type": "markdown",
   "id": "57e838ab",
   "metadata": {},
   "source": [
    "### Define pointing positions"
   ]
  },
  {
   "cell_type": "code",
   "execution_count": null,
   "id": "6f9dddb1",
   "metadata": {},
   "outputs": [],
   "source": []
  },
  {
   "cell_type": "code",
   "execution_count": null,
   "id": "037c2805",
   "metadata": {},
   "outputs": [],
   "source": []
  },
  {
   "cell_type": "code",
   "execution_count": null,
   "id": "e88e8a81",
   "metadata": {},
   "outputs": [],
   "source": []
  },
  {
   "cell_type": "markdown",
   "id": "b210fd4f",
   "metadata": {},
   "source": [
    "## Defining the reduced dataset geometry\n",
    "\n",
    "We prepare the 1D spectra geometry. We need to provide the binning in reco and true energy, for the counts, counts_off and the IRFs.\n",
    "\n",
    "Note: the `Geom` is a generic object that can contain different types of data"
   ]
  },
  {
   "cell_type": "code",
   "execution_count": null,
   "id": "215e1bca",
   "metadata": {},
   "outputs": [],
   "source": []
  },
  {
   "cell_type": "code",
   "execution_count": null,
   "id": "e1047364",
   "metadata": {},
   "outputs": [],
   "source": []
  },
  {
   "cell_type": "markdown",
   "id": "2e78057f",
   "metadata": {},
   "source": [
    "#### Instantiate the data reduction Makers"
   ]
  },
  {
   "cell_type": "code",
   "execution_count": null,
   "id": "d8187d68",
   "metadata": {},
   "outputs": [],
   "source": []
  },
  {
   "cell_type": "markdown",
   "id": "b55782c0",
   "metadata": {},
   "source": [
    "### Data reduction \n",
    "Now we can perform the data reduction to create the reference `Dataset`. "
   ]
  },
  {
   "cell_type": "code",
   "execution_count": null,
   "id": "fc3b5d56",
   "metadata": {},
   "outputs": [],
   "source": []
  },
  {
   "cell_type": "markdown",
   "id": "9b5329e8",
   "metadata": {},
   "source": [
    "As expected the reference dataset contains only the number of expected background counts but no signal."
   ]
  },
  {
   "cell_type": "code",
   "execution_count": null,
   "id": "c12e361e",
   "metadata": {},
   "outputs": [],
   "source": []
  },
  {
   "cell_type": "markdown",
   "id": "6061ef3a",
   "metadata": {},
   "source": [
    "## Simulate datasets\n",
    "\n",
    "### Model definition\n",
    "\n",
    "Source models in gammapy are `SkyModel`. They are usually the combination of a `SpectralModel`, a `SpatialModel` and possibly a `TemporalModel`.\n",
    "\n",
    "Here we only need a `SpectralModel`. It is the only mandatory component."
   ]
  },
  {
   "cell_type": "code",
   "execution_count": null,
   "id": "683e79cf",
   "metadata": {},
   "outputs": [],
   "source": []
  },
  {
   "cell_type": "code",
   "execution_count": null,
   "id": "6e1aa8e7",
   "metadata": {},
   "outputs": [],
   "source": []
  },
  {
   "cell_type": "markdown",
   "id": "fd045e46",
   "metadata": {},
   "source": [
    "You can see that background counts are now simulated\n",
    "\n",
    " \n",
    "## Create ON-OFF datasets\n",
    "\n",
    "\n",
    "Since background maker was applied the datasets are regular datasets: i.e. they contain a background model but no acceptance ON and OFF nor OFF counts.\n",
    "\n",
    "We have therefore to convert them to the proper format adding the required information. \n",
    "\n",
    "To do an on off spectral analysis, which is the usual science case, the standard would be to use SpectrumDatasetOnOff, which uses the acceptance to fake off-counts. \n",
    "\n",
    "We assume energy independent alpha_onoff=1/10:"
   ]
  },
  {
   "cell_type": "code",
   "execution_count": null,
   "id": "663a4dbd",
   "metadata": {},
   "outputs": [],
   "source": []
  },
  {
   "cell_type": "code",
   "execution_count": null,
   "id": "4d5c7635",
   "metadata": {},
   "outputs": [],
   "source": []
  },
  {
   "cell_type": "code",
   "execution_count": null,
   "id": "5e98926a",
   "metadata": {},
   "outputs": [],
   "source": []
  },
  {
   "cell_type": "code",
   "execution_count": null,
   "id": "07b2f705",
   "metadata": {},
   "outputs": [],
   "source": []
  },
  {
   "cell_type": "markdown",
   "id": "8e544ad3",
   "metadata": {},
   "source": [
    "# Perform the fit\n",
    "\n",
    "Here we fit a log parabola on the data and explore the distribution of parameters\n",
    "\n",
    "\n",
    "\n",
    "Now, we fit each simulated spectrum individually"
   ]
  },
  {
   "cell_type": "code",
   "execution_count": null,
   "id": "b5f54ce4",
   "metadata": {},
   "outputs": [],
   "source": []
  },
  {
   "cell_type": "code",
   "execution_count": null,
   "id": "14333b46",
   "metadata": {},
   "outputs": [],
   "source": []
  },
  {
   "cell_type": "code",
   "execution_count": null,
   "id": "4a05542d",
   "metadata": {},
   "outputs": [],
   "source": []
  },
  {
   "cell_type": "code",
   "execution_count": null,
   "id": "2ad336c7",
   "metadata": {},
   "outputs": [],
   "source": []
  },
  {
   "cell_type": "code",
   "execution_count": null,
   "id": "67f12527",
   "metadata": {},
   "outputs": [],
   "source": []
  },
  {
   "cell_type": "code",
   "execution_count": null,
   "id": "f45e8242",
   "metadata": {},
   "outputs": [],
   "source": []
  },
  {
   "cell_type": "code",
   "execution_count": null,
   "id": "3cbbf6e1",
   "metadata": {},
   "outputs": [],
   "source": []
  },
  {
   "cell_type": "code",
   "execution_count": null,
   "id": "8b6355d6",
   "metadata": {},
   "outputs": [],
   "source": []
  },
  {
   "cell_type": "code",
   "execution_count": null,
   "id": "12b4d7a6",
   "metadata": {},
   "outputs": [],
   "source": []
  },
  {
   "cell_type": "markdown",
   "id": "99942088",
   "metadata": {},
   "source": [
    "# Exercise - advanced\n",
    "\n",
    "## Exploring systematic effects: energy scale bias\n",
    "\n",
    "### Step 1:  Create a biased log-parabola model\n",
    "\n",
    "A systematic bias in the energy reconstruction that is not accounted for by the energy dispersion could have a significant impact of the fitted spectral parameters of the Crab nebula.\n",
    "\n",
    "Use the possibility offered by gammapy to create a custom model to add a log parabola model with a systematic constant energy bias. This bias will come in addition to the one stored in the edisp and quantified by the shower simulations.\n",
    "\n",
    "\n",
    "### Step 2:  Fake counts taking bias into account\n",
    "\n",
    "Use the biased model and randomize the bias values. Then create the ON-OFF datasets and fake their content.\n",
    "\n",
    "Assume a typical uncertainty on the energy scale of 3 percent.\n",
    "\n",
    "\n",
    "### Step 3: Perform the fit\n",
    "\n",
    "Fit a log parabola without a bias on the data and explore the distribution of parameters"
   ]
  },
  {
   "cell_type": "code",
   "execution_count": null,
   "id": "b2dbdd9c",
   "metadata": {},
   "outputs": [],
   "source": []
  },
  {
   "cell_type": "code",
   "execution_count": null,
   "id": "09877e1e",
   "metadata": {},
   "outputs": [],
   "source": []
  },
  {
   "cell_type": "code",
   "execution_count": null,
   "id": "a56f7295",
   "metadata": {},
   "outputs": [],
   "source": []
  }
 ],
 "metadata": {
  "kernelspec": {
   "display_name": "Python 3 (ipykernel)",
   "language": "python",
   "name": "python3"
  },
  "language_info": {
   "codemirror_mode": {
    "name": "ipython",
    "version": 3
   },
   "file_extension": ".py",
   "mimetype": "text/x-python",
   "name": "python",
   "nbconvert_exporter": "python",
   "pygments_lexer": "ipython3",
   "version": "3.10.13"
  }
 },
 "nbformat": 4,
 "nbformat_minor": 5
}
